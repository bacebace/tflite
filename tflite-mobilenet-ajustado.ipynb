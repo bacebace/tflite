{
 "cells": [
  {
   "cell_type": "markdown",
   "metadata": {},
   "source": [
    "# Bibliotecas"
   ]
  },
  {
   "cell_type": "markdown",
   "metadata": {},
   "source": [
    "keras versão 3 quebra o tflite"
   ]
  },
  {
   "cell_type": "code",
   "execution_count": 20,
   "metadata": {},
   "outputs": [],
   "source": [
    "#!pip install tensorflow==2.15.0\n",
    "#!pip install keras==2.15.0 "
   ]
  },
  {
   "cell_type": "code",
   "execution_count": 1,
   "metadata": {
    "execution": {
     "iopub.execute_input": "2024-06-17T23:15:33.938836Z",
     "iopub.status.busy": "2024-06-17T23:15:33.938519Z",
     "iopub.status.idle": "2024-06-17T23:15:33.943528Z",
     "shell.execute_reply": "2024-06-17T23:15:33.942529Z",
     "shell.execute_reply.started": "2024-06-17T23:15:33.938805Z"
    }
   },
   "outputs": [],
   "source": [
    "import warnings\n",
    "warnings.filterwarnings('ignore')"
   ]
  },
  {
   "cell_type": "code",
   "execution_count": 2,
   "metadata": {},
   "outputs": [
    {
     "name": "stdout",
     "output_type": "stream",
     "text": [
      "WARNING:tensorflow:From c:\\Users\\CPQD\\anaconda3\\Lib\\site-packages\\keras\\src\\losses.py:2976: The name tf.losses.sparse_softmax_cross_entropy is deprecated. Please use tf.compat.v1.losses.sparse_softmax_cross_entropy instead.\n",
      "\n"
     ]
    }
   ],
   "source": [
    "import matplotlib.pyplot as plt\n",
    "import matplotlib.image as img\n",
    "import numpy as np\n",
    "import os\n",
    "\n",
    "from pathlib import Path\n",
    "import pandas as pd\n",
    "\n",
    "import pickle\n",
    "\n",
    "from sklearn.model_selection import train_test_split\n",
    "import tensorflow as tf\n",
    "import keras\n",
    "from tensorflow.keras.preprocessing.image import ImageDataGenerator\n",
    "#from keras.src.legacy.preprocessing.image import ImageDataGenerator\n",
    "from keras.callbacks import Callback, EarlyStopping, ModelCheckpoint\n",
    "from keras import Model\n",
    "from keras.optimizers import Adam\n",
    "\n",
    "import time"
   ]
  },
  {
   "cell_type": "code",
   "execution_count": 3,
   "metadata": {},
   "outputs": [
    {
     "name": "stdout",
     "output_type": "stream",
     "text": [
      "2.15.0\n"
     ]
    }
   ],
   "source": [
    "print(tf.__version__)"
   ]
  },
  {
   "cell_type": "code",
   "execution_count": 4,
   "metadata": {},
   "outputs": [
    {
     "name": "stdout",
     "output_type": "stream",
     "text": [
      "2.15.0\n"
     ]
    }
   ],
   "source": [
    "print(keras.__version__)"
   ]
  },
  {
   "cell_type": "markdown",
   "metadata": {},
   "source": [
    "# Pré-processamento"
   ]
  },
  {
   "cell_type": "code",
   "execution_count": 5,
   "metadata": {
    "execution": {
     "iopub.execute_input": "2024-06-17T23:15:33.971570Z",
     "iopub.status.busy": "2024-06-17T23:15:33.971290Z",
     "iopub.status.idle": "2024-06-17T23:15:33.979052Z",
     "shell.execute_reply": "2024-06-17T23:15:33.978009Z",
     "shell.execute_reply.started": "2024-06-17T23:15:33.971548Z"
    }
   },
   "outputs": [],
   "source": [
    "train_folder=r\"C:\\Users\\CPQD\\Documents\\dataset_balanceado\\train\"\n",
    "val_folder=r\"C:\\Users\\CPQD\\Documents\\dataset_balanceado\\val\"\n",
    "test_folder=r\"C:\\Users\\CPQD\\Documents\\dataset_balanceado\\test\""
   ]
  },
  {
   "cell_type": "code",
   "execution_count": 9,
   "metadata": {
    "execution": {
     "iopub.execute_input": "2024-06-17T23:15:33.980528Z",
     "iopub.status.busy": "2024-06-17T23:15:33.980231Z",
     "iopub.status.idle": "2024-06-17T23:15:33.987825Z",
     "shell.execute_reply": "2024-06-17T23:15:33.986993Z",
     "shell.execute_reply.started": "2024-06-17T23:15:33.980498Z"
    }
   },
   "outputs": [],
   "source": [
    "train_generator = ImageDataGenerator (preprocessing_function=tf.keras.applications.mobilenet.preprocess_input,\n",
    "                                      #validation_split=0.2 # o subset ja esta separado\n",
    "                                      )\n",
    "\n",
    "test_generator = ImageDataGenerator(preprocessing_function=tf.keras.applications.mobilenet.preprocess_input)"
   ]
  },
  {
   "cell_type": "code",
   "execution_count": 10,
   "metadata": {},
   "outputs": [],
   "source": [
    "batch_size=16"
   ]
  },
  {
   "cell_type": "code",
   "execution_count": 11,
   "metadata": {
    "execution": {
     "iopub.execute_input": "2024-06-17T23:15:33.989377Z",
     "iopub.status.busy": "2024-06-17T23:15:33.989016Z",
     "iopub.status.idle": "2024-06-17T23:15:34.364268Z",
     "shell.execute_reply": "2024-06-17T23:15:34.363397Z",
     "shell.execute_reply.started": "2024-06-17T23:15:33.989348Z"
    }
   },
   "outputs": [
    {
     "name": "stdout",
     "output_type": "stream",
     "text": [
      "Found 5036 images belonging to 12 classes.\n",
      "Found 1085 images belonging to 12 classes.\n",
      "Found 1077 images belonging to 12 classes.\n"
     ]
    }
   ],
   "source": [
    "train_images = train_generator.flow_from_directory(\n",
    "    directory=train_folder,\n",
    "    target_size=(224, 224),\n",
    "    color_mode='rgb',\n",
    "    class_mode='categorical',\n",
    "    batch_size=batch_size,\n",
    "    shuffle=True,\n",
    "    seed=42,\n",
    "    #subset='training' # o subset de treino ja esta separado\n",
    ")\n",
    "\n",
    "val_images = train_generator.flow_from_directory(\n",
    "    directory=val_folder,\n",
    "    target_size=(224, 224),\n",
    "    color_mode='rgb',\n",
    "    class_mode='categorical',\n",
    "    batch_size=batch_size,\n",
    "    shuffle=True,\n",
    "    seed=42,\n",
    "    #subset='validation'\n",
    ")\n",
    "\n",
    "test_images = test_generator.flow_from_directory(\n",
    "    directory=test_folder,\n",
    "    target_size=(224, 224),\n",
    "    color_mode='rgb',\n",
    "    class_mode='categorical',\n",
    "    batch_size=batch_size,\n",
    "    shuffle=False\n",
    ")"
   ]
  },
  {
   "cell_type": "markdown",
   "metadata": {},
   "source": [
    "## Vamos analisar o conjunto de testes"
   ]
  },
  {
   "cell_type": "markdown",
   "metadata": {},
   "source": [
    "aqui, vemos que há 68 lotes:"
   ]
  },
  {
   "cell_type": "code",
   "execution_count": 12,
   "metadata": {},
   "outputs": [
    {
     "data": {
      "text/plain": [
       "68"
      ]
     },
     "execution_count": 12,
     "metadata": {},
     "output_type": "execute_result"
    }
   ],
   "source": [
    "len(test_images)"
   ]
  },
  {
   "cell_type": "markdown",
   "metadata": {},
   "source": [
    "cada lote deve ter 'batch_size' amostras. verifiquemos:"
   ]
  },
  {
   "cell_type": "code",
   "execution_count": 13,
   "metadata": {},
   "outputs": [
    {
     "data": {
      "text/plain": [
       "16"
      ]
     },
     "execution_count": 13,
     "metadata": {},
     "output_type": "execute_result"
    }
   ],
   "source": [
    "len(test_images[0][0])"
   ]
  },
  {
   "cell_type": "markdown",
   "metadata": {},
   "source": [
    "porém, pode ser que o último lote não venha completo, por isso é importante verificar quantas amostras há nele:"
   ]
  },
  {
   "cell_type": "code",
   "execution_count": 14,
   "metadata": {},
   "outputs": [
    {
     "data": {
      "text/plain": [
       "5"
      ]
     },
     "execution_count": 14,
     "metadata": {},
     "output_type": "execute_result"
    }
   ],
   "source": [
    "len(test_images[len(test_images)-1][0])"
   ]
  },
  {
   "cell_type": "markdown",
   "metadata": {},
   "source": [
    "para obter a quantidade de imagens:"
   ]
  },
  {
   "cell_type": "code",
   "execution_count": 15,
   "metadata": {},
   "outputs": [],
   "source": [
    "qtd=(len(test_images)-1)*batch_size+len(test_images[len(test_images)-1][0])"
   ]
  },
  {
   "cell_type": "code",
   "execution_count": 16,
   "metadata": {},
   "outputs": [
    {
     "data": {
      "text/plain": [
       "1077"
      ]
     },
     "execution_count": 16,
     "metadata": {},
     "output_type": "execute_result"
    }
   ],
   "source": [
    "qtd"
   ]
  },
  {
   "cell_type": "markdown",
   "metadata": {},
   "source": [
    "# Carregar modelo: MobileNet"
   ]
  },
  {
   "cell_type": "code",
   "execution_count": 17,
   "metadata": {},
   "outputs": [
    {
     "name": "stdout",
     "output_type": "stream",
     "text": [
      "WARNING:tensorflow:From c:\\Users\\CPQD\\anaconda3\\Lib\\site-packages\\keras\\src\\backend.py:1398: The name tf.executing_eagerly_outside_functions is deprecated. Please use tf.compat.v1.executing_eagerly_outside_functions instead.\n",
      "\n",
      "WARNING:tensorflow:From c:\\Users\\CPQD\\anaconda3\\Lib\\site-packages\\keras\\src\\layers\\normalization\\batch_normalization.py:979: The name tf.nn.fused_batch_norm is deprecated. Please use tf.compat.v1.nn.fused_batch_norm instead.\n",
      "\n"
     ]
    }
   ],
   "source": [
    "model = tf.keras.models.load_model(r\"C:\\Users\\CPQD\\Documents\\vscode\\tflite\\mobilenet.keras\")"
   ]
  },
  {
   "cell_type": "code",
   "execution_count": 18,
   "metadata": {
    "execution": {
     "iopub.execute_input": "2024-06-17T23:15:35.927938Z",
     "iopub.status.busy": "2024-06-17T23:15:35.927516Z",
     "iopub.status.idle": "2024-06-17T23:15:35.934646Z",
     "shell.execute_reply": "2024-06-17T23:15:35.933783Z",
     "shell.execute_reply.started": "2024-06-17T23:15:35.927908Z"
    }
   },
   "outputs": [],
   "source": [
    "lr_schedule = tf.keras.optimizers.schedules.ExponentialDecay(\n",
    "    initial_learning_rate=0.0001,\n",
    "    decay_steps=10000,\n",
    "    decay_rate=0.5)"
   ]
  },
  {
   "cell_type": "code",
   "execution_count": 19,
   "metadata": {
    "execution": {
     "iopub.execute_input": "2024-06-17T23:15:35.935947Z",
     "iopub.status.busy": "2024-06-17T23:15:35.935657Z",
     "iopub.status.idle": "2024-06-17T23:15:35.950823Z",
     "shell.execute_reply": "2024-06-17T23:15:35.949931Z",
     "shell.execute_reply.started": "2024-06-17T23:15:35.935923Z"
    }
   },
   "outputs": [],
   "source": [
    "from keras.optimizers import Adam\n",
    "\n",
    "model.compile(optimizer=Adam(learning_rate=lr_schedule),\n",
    "              loss='categorical_crossentropy',\n",
    "              metrics=['accuracy']\n",
    "              )"
   ]
  },
  {
   "cell_type": "markdown",
   "metadata": {},
   "source": [
    "# Perda e acurácia"
   ]
  },
  {
   "cell_type": "code",
   "execution_count": 20,
   "metadata": {
    "execution": {
     "iopub.execute_input": "2024-06-17T23:24:50.188258Z",
     "iopub.status.busy": "2024-06-17T23:24:50.187955Z",
     "iopub.status.idle": "2024-06-17T23:24:59.926888Z",
     "shell.execute_reply": "2024-06-17T23:24:59.925806Z",
     "shell.execute_reply.started": "2024-06-17T23:24:50.188232Z"
    }
   },
   "outputs": [
    {
     "name": "stdout",
     "output_type": "stream",
     "text": [
      "WARNING:tensorflow:From c:\\Users\\CPQD\\anaconda3\\Lib\\site-packages\\keras\\src\\utils\\tf_utils.py:492: The name tf.ragged.RaggedTensorValue is deprecated. Please use tf.compat.v1.ragged.RaggedTensorValue instead.\n",
      "\n",
      "WARNING:tensorflow:From c:\\Users\\CPQD\\anaconda3\\Lib\\site-packages\\keras\\src\\engine\\base_layer_utils.py:384: The name tf.executing_eagerly_outside_functions is deprecated. Please use tf.compat.v1.executing_eagerly_outside_functions instead.\n",
      "\n",
      "    Test Loss: 0.25411\n",
      "Test Accuracy: 91.46%\n"
     ]
    }
   ],
   "source": [
    "results = model.evaluate(test_images, verbose=0)\n",
    "\n",
    "print(\"    Test Loss: {:.5f}\".format(results[0]))\n",
    "print(\"Test Accuracy: {:.2f}%\".format(results[1] * 100))"
   ]
  },
  {
   "cell_type": "markdown",
   "metadata": {},
   "source": [
    "# Tempo de inferência"
   ]
  },
  {
   "cell_type": "code",
   "execution_count": 21,
   "metadata": {
    "execution": {
     "iopub.execute_input": "2024-06-17T23:25:00.704977Z",
     "iopub.status.busy": "2024-06-17T23:25:00.704678Z",
     "iopub.status.idle": "2024-06-17T23:25:08.756610Z",
     "shell.execute_reply": "2024-06-17T23:25:08.755633Z",
     "shell.execute_reply.started": "2024-06-17T23:25:00.704951Z"
    }
   },
   "outputs": [
    {
     "name": "stdout",
     "output_type": "stream",
     "text": [
      "68/68 [==============================] - 16s 226ms/step\n"
     ]
    }
   ],
   "source": [
    "import time\n",
    "\n",
    "start=time.time()\n",
    "\n",
    "pred_og=model.predict(test_images)\n",
    "\n",
    "end=time.time()"
   ]
  },
  {
   "cell_type": "code",
   "execution_count": 22,
   "metadata": {
    "execution": {
     "iopub.execute_input": "2024-06-17T23:25:08.758503Z",
     "iopub.status.busy": "2024-06-17T23:25:08.758055Z",
     "iopub.status.idle": "2024-06-17T23:25:08.763793Z",
     "shell.execute_reply": "2024-06-17T23:25:08.762799Z",
     "shell.execute_reply.started": "2024-06-17T23:25:08.758468Z"
    }
   },
   "outputs": [
    {
     "name": "stdout",
     "output_type": "stream",
     "text": [
      "Tempo de inferência médio: 0.014973783448767418 segundos\n"
     ]
    }
   ],
   "source": [
    "media=(end-start)/qtd\n",
    "print(\"Tempo de inferência médio: \"+str(media)+\" segundos\")"
   ]
  },
  {
   "cell_type": "markdown",
   "metadata": {},
   "source": [
    "# Precision, Recall, F1-score"
   ]
  },
  {
   "cell_type": "markdown",
   "metadata": {},
   "source": [
    "## Predições"
   ]
  },
  {
   "cell_type": "code",
   "execution_count": 23,
   "metadata": {},
   "outputs": [],
   "source": [
    "pred=[]\n",
    "for i in range(len(pred_og)):\n",
    "    pred.append(np.argmax(pred_og[i]))"
   ]
  },
  {
   "cell_type": "markdown",
   "metadata": {},
   "source": [
    "## Rótulos"
   ]
  },
  {
   "cell_type": "code",
   "execution_count": 24,
   "metadata": {},
   "outputs": [],
   "source": [
    "y_true=[]\n",
    "for i in range(len(test_images)):\n",
    "    if i<len(test_images)-1:\n",
    "        for j in range(batch_size):\n",
    "            y=np.where(test_images[i][1][j] == 1)[0]\n",
    "            y_true.append(y.item())\n",
    "    else:\n",
    "        for j in range(len(test_images[len(test_images)-1][0])):\n",
    "            y=np.where(test_images[i][1][j] == 1)[0]\n",
    "            y_true.append(y.item())"
   ]
  },
  {
   "cell_type": "markdown",
   "metadata": {},
   "source": [
    "## Report"
   ]
  },
  {
   "cell_type": "markdown",
   "metadata": {},
   "source": [
    "versão 0.12.x do seaborn buga o heatmap da matriz de confusão"
   ]
  },
  {
   "cell_type": "code",
   "execution_count": 59,
   "metadata": {},
   "outputs": [],
   "source": [
    "#!pip install seaborn==0.13.0"
   ]
  },
  {
   "cell_type": "code",
   "execution_count": 25,
   "metadata": {
    "execution": {
     "iopub.execute_input": "2024-06-17T23:25:08.896031Z",
     "iopub.status.busy": "2024-06-17T23:25:08.895696Z",
     "iopub.status.idle": "2024-06-17T23:25:09.169225Z",
     "shell.execute_reply": "2024-06-17T23:25:09.168314Z",
     "shell.execute_reply.started": "2024-06-17T23:25:08.896005Z"
    }
   },
   "outputs": [
    {
     "name": "stdout",
     "output_type": "stream",
     "text": [
      "              precision    recall  f1-score   support\n",
      "\n",
      "           0       0.95      0.99      0.97        89\n",
      "           1       0.99      0.98      0.98        91\n",
      "           2       0.87      0.78      0.82        89\n",
      "           3       0.93      0.93      0.93        90\n",
      "           4       0.95      0.99      0.97        90\n",
      "           5       0.82      0.82      0.82        90\n",
      "           6       0.86      0.90      0.88        88\n",
      "           7       0.91      0.92      0.92        90\n",
      "           8       0.94      0.88      0.91        90\n",
      "           9       0.97      0.99      0.98        91\n",
      "          10       0.94      0.92      0.93        90\n",
      "          11       0.84      0.88      0.86        89\n",
      "\n",
      "    accuracy                           0.91      1077\n",
      "   macro avg       0.91      0.91      0.91      1077\n",
      "weighted avg       0.91      0.91      0.91      1077\n",
      "\n"
     ]
    }
   ],
   "source": [
    "from sklearn.metrics import classification_report, confusion_matrix\n",
    "import seaborn as sns\n",
    "\n",
    "print(classification_report(y_true, pred))"
   ]
  },
  {
   "cell_type": "code",
   "execution_count": 26,
   "metadata": {},
   "outputs": [
    {
     "name": "stdout",
     "output_type": "stream",
     "text": [
      "0.13.0\n"
     ]
    }
   ],
   "source": [
    "print(sns.__version__)"
   ]
  },
  {
   "cell_type": "markdown",
   "metadata": {},
   "source": [
    "# Matriz de confusão"
   ]
  },
  {
   "cell_type": "code",
   "execution_count": 27,
   "metadata": {
    "execution": {
     "iopub.execute_input": "2024-06-17T23:25:09.171016Z",
     "iopub.status.busy": "2024-06-17T23:25:09.170489Z",
     "iopub.status.idle": "2024-06-17T23:25:09.180318Z",
     "shell.execute_reply": "2024-06-17T23:25:09.179337Z",
     "shell.execute_reply.started": "2024-06-17T23:25:09.170989Z"
    }
   },
   "outputs": [],
   "source": [
    "CM = confusion_matrix(y_true, pred)\n",
    "\n",
    "class_names = os.listdir(test_folder)\n",
    "\n",
    "CM_df = pd.DataFrame(CM, index=class_names, columns=class_names)\n",
    "total_true = np.sum(CM, axis=1)\n",
    "CM_percent = (CM / total_true[:, None]) * 100\n",
    "CM_percent_df = pd.DataFrame(CM_percent, index=class_names, columns=class_names)"
   ]
  },
  {
   "cell_type": "code",
   "execution_count": 28,
   "metadata": {
    "execution": {
     "iopub.execute_input": "2024-06-17T23:25:09.182473Z",
     "iopub.status.busy": "2024-06-17T23:25:09.181658Z",
     "iopub.status.idle": "2024-06-17T23:25:09.841205Z",
     "shell.execute_reply": "2024-06-17T23:25:09.840281Z",
     "shell.execute_reply.started": "2024-06-17T23:25:09.182444Z"
    }
   },
   "outputs": [
    {
     "data": {
      "image/png": "[encoded data removed]",
      "text/plain": [
       "<Figure size 1200x800 with 2 Axes>"
      ]
     },
     "metadata": {},
     "output_type": "display_data"
    }
   ],
   "source": [
    "plt.figure(figsize=(12, 8))\n",
    "sns.heatmap(CM_percent_df, annot=True, fmt='.1f', cmap='RdBu', cbar=True)\n",
    "plt.xlabel('Predicted labels')\n",
    "plt.ylabel('True labels')\n",
    "plt.title('Confusion Matrix (%)')\n",
    "plt.show()"
   ]
  },
  {
   "cell_type": "markdown",
   "metadata": {},
   "source": [
    "# TensorFlow Lite"
   ]
  },
  {
   "cell_type": "markdown",
   "metadata": {},
   "source": [
    "## Quantizar modelo"
   ]
  },
  {
   "cell_type": "code",
   "execution_count": 29,
   "metadata": {},
   "outputs": [],
   "source": [
    "def representative_dataset_generator():\n",
    "    for _ in range(100):\n",
    "        data = next(val_images)[0]\n",
    "        yield [data.astype(np.float32)]"
   ]
  },
  {
   "cell_type": "code",
   "execution_count": 30,
   "metadata": {
    "execution": {
     "iopub.execute_input": "2024-06-17T23:25:09.842615Z",
     "iopub.status.busy": "2024-06-17T23:25:09.842326Z",
     "iopub.status.idle": "2024-06-17T23:25:09.847171Z",
     "shell.execute_reply": "2024-06-17T23:25:09.846235Z",
     "shell.execute_reply.started": "2024-06-17T23:25:09.842589Z"
    }
   },
   "outputs": [],
   "source": [
    "converter = tf.lite.TFLiteConverter.from_keras_model(model)"
   ]
  },
  {
   "cell_type": "code",
   "execution_count": 31,
   "metadata": {
    "execution": {
     "iopub.execute_input": "2024-06-17T23:25:09.848616Z",
     "iopub.status.busy": "2024-06-17T23:25:09.848316Z",
     "iopub.status.idle": "2024-06-17T23:25:09.855217Z",
     "shell.execute_reply": "2024-06-17T23:25:09.854428Z",
     "shell.execute_reply.started": "2024-06-17T23:25:09.848591Z"
    }
   },
   "outputs": [],
   "source": [
    "converter.optimizations = [tf.lite.Optimize.DEFAULT]\n",
    "converter.representative_dataset =  representative_dataset_generator\n",
    "converter.target_spec.supported_ops = [tf.lite.OpsSet.TFLITE_BUILTINS_INT8]\n",
    "converter.inference_input_type = tf.int8\n",
    "converter.inference_output_type = tf.int8 "
   ]
  },
  {
   "cell_type": "code",
   "execution_count": 32,
   "metadata": {
    "execution": {
     "iopub.execute_input": "2024-06-17T23:25:09.856454Z",
     "iopub.status.busy": "2024-06-17T23:25:09.856198Z"
    }
   },
   "outputs": [
    {
     "name": "stdout",
     "output_type": "stream",
     "text": [
      "INFO:tensorflow:Assets written to: C:\\Users\\CPQD\\AppData\\Local\\Temp\\tmpbno9_7mk\\assets\n"
     ]
    },
    {
     "name": "stderr",
     "output_type": "stream",
     "text": [
      "INFO:tensorflow:Assets written to: C:\\Users\\CPQD\\AppData\\Local\\Temp\\tmpbno9_7mk\\assets\n"
     ]
    }
   ],
   "source": [
    "tflite_model = converter.convert()"
   ]
  },
  {
   "cell_type": "code",
   "execution_count": 33,
   "metadata": {},
   "outputs": [],
   "source": [
    "with open(r\"C:\\Users\\CPQD\\Documents\\vscode\\tflite\\mobilenet.tflite\", \"wb\") as f:\n",
    "    f.write(tflite_model)"
   ]
  },
  {
   "cell_type": "code",
   "execution_count": 34,
   "metadata": {},
   "outputs": [],
   "source": [
    "TF_MODEL_FILE_PATH=r\"C:\\Users\\CPQD\\Documents\\vscode\\tflite\\mobilenet.tflite\"\n",
    "interpreter = tf.lite.Interpreter(model_path=TF_MODEL_FILE_PATH)"
   ]
  },
  {
   "cell_type": "code",
   "execution_count": 35,
   "metadata": {},
   "outputs": [],
   "source": [
    "nomes = interpreter.get_signature_list()\n",
    "(a, b), = nomes.items()\n",
    "entrada=b.get('inputs')[0]"
   ]
  },
  {
   "cell_type": "code",
   "execution_count": 36,
   "metadata": {},
   "outputs": [
    {
     "data": {
      "text/plain": [
       "{'serving_default': {'inputs': ['input_1'], 'outputs': ['dense_2']}}"
      ]
     },
     "execution_count": 36,
     "metadata": {},
     "output_type": "execute_result"
    }
   ],
   "source": [
    "nomes"
   ]
  },
  {
   "cell_type": "code",
   "execution_count": 37,
   "metadata": {},
   "outputs": [],
   "source": [
    "classify_lite = interpreter.get_signature_runner('serving_default')"
   ]
  },
  {
   "cell_type": "markdown",
   "metadata": {},
   "source": [
    "## Testar modelo quantizado"
   ]
  },
  {
   "cell_type": "code",
   "execution_count": 176,
   "metadata": {},
   "outputs": [],
   "source": [
    "for i in range(len(test_images)):\n",
    "    if i==0:\n",
    "        minimo=test_images[i][0].min()\n",
    "        maximo=test_images[i][0].max()\n",
    "    if test_images[i][0].min() < minimo:\n",
    "        minimo=test_images[i][0].min()\n",
    "    if test_images[i][0].max() > maximo:\n",
    "        maximo=test_images[i][0].max()"
   ]
  },
  {
   "cell_type": "code",
   "execution_count": 190,
   "metadata": {},
   "outputs": [],
   "source": [
    "if maximo!=0 and minimo!=0: # nenhum valor extremo é zero \n",
    "    if minimo<0 and maximo<0: # todos os valores sao negativos\n",
    "        fator=minimo*(-1)\n",
    "        if maximo*(-1)>fator: # eh impossivel entrar neste caso, mas vou deixar aqui\n",
    "            fator=maximo*(-1)\n",
    "    if minimo<0 and maximo>0: # existem valores nas faixas negativa e positiva\n",
    "        fator=minimo*(-1)\n",
    "        if maximo>fator:\n",
    "            fator=maximo\n",
    "    if minimo>0 and maximo>0: # todos os valores sao positivos\n",
    "         fator=maximo\n",
    "         if minimo>fator: # eh impossivel entrar neste caso, mas vou deixar aqui\n",
    "             fator=minimo\n",
    "    fator=127/fator\n",
    "    d=0 # deslocamento\n",
    "else: # algum dos extremos é zero\n",
    "    if minimo==0:\n",
    "        fator=maximo\n",
    "        fator=255/fator\n",
    "        d=-128\n",
    "    if maximo==0:\n",
    "        fator=minimo*(-1)\n",
    "        fator=255/fator\n",
    "        d=127"
   ]
  },
  {
   "cell_type": "code",
   "execution_count": 191,
   "metadata": {},
   "outputs": [
    {
     "data": {
      "text/plain": [
       "127.0"
      ]
     },
     "execution_count": 191,
     "metadata": {},
     "output_type": "execute_result"
    }
   ],
   "source": [
    "fator"
   ]
  },
  {
   "cell_type": "code",
   "execution_count": 192,
   "metadata": {},
   "outputs": [
    {
     "data": {
      "text/plain": [
       "0"
      ]
     },
     "execution_count": 192,
     "metadata": {},
     "output_type": "execute_result"
    }
   ],
   "source": [
    "d"
   ]
  },
  {
   "cell_type": "markdown",
   "metadata": {},
   "source": [
    "o argumento de input é a string a seguir:"
   ]
  },
  {
   "cell_type": "code",
   "execution_count": 193,
   "metadata": {},
   "outputs": [
    {
     "data": {
      "text/plain": [
       "'input_1'"
      ]
     },
     "execution_count": 193,
     "metadata": {},
     "output_type": "execute_result"
    }
   ],
   "source": [
    "entrada"
   ]
  },
  {
   "cell_type": "code",
   "execution_count": 194,
   "metadata": {},
   "outputs": [],
   "source": [
    "pred=[]\n",
    "rotulo=[]\n",
    "tempo=0\n",
    "for i in range(len(test_images)):\n",
    "    img=(test_images[i][0]*fator+d).astype(\"int8\")\n",
    "    start=time.time()\n",
    "    predictions_lite = classify_lite(input_1=img)   # argumento entrada\n",
    "    end=time.time()\n",
    "    tempo=tempo+end-start\n",
    "    (k, v), = predictions_lite.items()\n",
    "    for j in range(batch_size):\n",
    "        if i<len(test_images)-1:\n",
    "            pred.append(np.argmax(v[j]))\n",
    "            r=np.where(test_images[i][1] == 1)[1][j]\n",
    "            rotulo.append(r)\n",
    "        else:\n",
    "            if j<len(test_images[len(test_images)-1][0]):\n",
    "                pred.append(np.argmax(v[j]))\n",
    "                r=np.where(test_images[i][1] == 1)[1][j]\n",
    "                rotulo.append(r)\n",
    "            else:\n",
    "                break"
   ]
  },
  {
   "cell_type": "code",
   "execution_count": 195,
   "metadata": {},
   "outputs": [],
   "source": [
    "a=0 # quantidade de acertos\n",
    "e=[] # indices das imagens classificadas incorretamente\n",
    "for i in range(len(pred)):\n",
    "    if(pred[i]==rotulo[i]):\n",
    "        a=a+1\n",
    "    else:\n",
    "        e.append(i)"
   ]
  },
  {
   "cell_type": "code",
   "execution_count": 196,
   "metadata": {},
   "outputs": [
    {
     "name": "stdout",
     "output_type": "stream",
     "text": [
      "Acertos: 91.74%\n"
     ]
    }
   ],
   "source": [
    "print(\"Acertos: {:.2f}%\".format(a/qtd * 100))"
   ]
  },
  {
   "cell_type": "code",
   "execution_count": 197,
   "metadata": {},
   "outputs": [
    {
     "name": "stdout",
     "output_type": "stream",
     "text": [
      "Tempo de inferência médio: 0.10995223993710489 segundos\n"
     ]
    }
   ],
   "source": [
    "print(\"Tempo de inferência médio: \"+str(tempo/qtd)+\" segundos\")"
   ]
  },
  {
   "cell_type": "code",
   "execution_count": 198,
   "metadata": {},
   "outputs": [
    {
     "name": "stdout",
     "output_type": "stream",
     "text": [
      "              precision    recall  f1-score   support\n",
      "\n",
      "           0       0.96      0.97      0.96        89\n",
      "           1       0.99      0.98      0.98        91\n",
      "           2       0.90      0.81      0.85        89\n",
      "           3       0.95      0.92      0.94        90\n",
      "           4       0.97      0.99      0.98        90\n",
      "           5       0.84      0.80      0.82        90\n",
      "           6       0.89      0.86      0.88        88\n",
      "           7       0.87      0.96      0.91        90\n",
      "           8       0.94      0.91      0.93        90\n",
      "           9       0.96      0.98      0.97        91\n",
      "          10       0.90      0.96      0.92        90\n",
      "          11       0.85      0.88      0.86        89\n",
      "\n",
      "    accuracy                           0.92      1077\n",
      "   macro avg       0.92      0.92      0.92      1077\n",
      "weighted avg       0.92      0.92      0.92      1077\n",
      "\n"
     ]
    }
   ],
   "source": [
    "print(classification_report(rotulo, pred))"
   ]
  },
  {
   "cell_type": "code",
   "execution_count": 199,
   "metadata": {},
   "outputs": [],
   "source": [
    "CM_lite = confusion_matrix(rotulo, pred)\n",
    "\n",
    "class_names = os.listdir(test_folder)\n",
    "\n",
    "CM_lite_df = pd.DataFrame(CM_lite, index=class_names, columns=class_names)\n",
    "total_true_lite = np.sum(CM_lite, axis=1)\n",
    "CM_percent_lite = (CM_lite / total_true_lite[:, None]) * 100\n",
    "CM_lite_percent_df = pd.DataFrame(CM_percent_lite, index=class_names, columns=class_names)"
   ]
  },
  {
   "cell_type": "code",
   "execution_count": 200,
   "metadata": {},
   "outputs": [
    {
     "data": {
      "image/png": "[encoded data removed]",
      "text/plain": [
       "<Figure size 1200x800 with 2 Axes>"
      ]
     },
     "metadata": {},
     "output_type": "display_data"
    }
   ],
   "source": [
    "plt.figure(figsize=(12, 8))\n",
    "sns.heatmap(CM_lite_percent_df, annot=True, fmt='.1f', cmap='RdBu', cbar=True)\n",
    "plt.xlabel('Predicted labels')\n",
    "plt.ylabel('True labels')\n",
    "plt.title('Confusion Matrix (%)')\n",
    "plt.show()"
   ]
  }
 ],
 "metadata": {
  "kaggle": {
   "accelerator": "nvidiaTeslaT4",
   "dataSources": [
    {
     "datasetId": 5150581,
     "sourceId": 8607440,
     "sourceType": "datasetVersion"
    }
   ],
   "dockerImageVersionId": 30683,
   "isGpuEnabled": true,
   "isInternetEnabled": true,
   "language": "python",
   "sourceType": "notebook"
  },
  "kernelspec": {
   "display_name": "Python 3 (ipykernel)",
   "language": "python",
   "name": "python3"
  },
  "language_info": {
   "codemirror_mode": {
    "name": "ipython",
    "version": 3
   },
   "file_extension": ".py",
   "mimetype": "text/x-python",
   "name": "python",
   "nbconvert_exporter": "python",
   "pygments_lexer": "ipython3",
   "version": "3.11.7"
  }
 },
 "nbformat": 4,
 "nbformat_minor": 4
}
